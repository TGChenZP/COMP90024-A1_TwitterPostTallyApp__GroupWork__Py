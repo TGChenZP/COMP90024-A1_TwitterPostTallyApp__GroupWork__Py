{
 "cells": [
  {
   "cell_type": "code",
   "execution_count": 43,
   "metadata": {},
   "outputs": [],
   "source": [
    "import pandas as pd\n",
    "import json\n",
    "\n",
    "from collections import defaultdict as dd "
   ]
  },
  {
   "cell_type": "code",
   "execution_count": 44,
   "metadata": {},
   "outputs": [],
   "source": [
    "class CCC_A1:\n",
    "\n",
    "    def __init__(self):\n",
    "        \n",
    "        self.task_2_out = dd(int)\n",
    "    \n",
    "\n",
    "\n",
    "    def run_soln(self, tweets_list):\n",
    "        \n",
    "        for tweet in tweets_list:\n",
    "            self.task_2_out[tweet['_id']] += 1\n",
    "\n",
    "        self.task_2_out = self._sort_dict_reverse(self.task_2_out)\n",
    "\n",
    "        print(self.task_2_out)\n",
    "\n",
    "    \n",
    "\n",
    "    def _sort_dict_reverse(self, dictionary):\n",
    "        \"\"\" Helper to sort dictionary\"\"\"\n",
    "\n",
    "        features_list = [(key, dictionary[key]) for key in dictionary]\n",
    "        features_list.sort(key=lambda x:x[1], reverse=True)\n",
    "\n",
    "        features_reverse_sorted = {x[0]:x[1] for x in features_list}\n",
    "\n",
    "        return features_reverse_sorted\n"
   ]
  },
  {
   "attachments": {},
   "cell_type": "markdown",
   "metadata": {},
   "source": [
    "计划：\n",
    "1. 清理掉所有非 xgxxx 的sa1 dictionary entry\n",
    "2. 做duplicated_sa1 的dictionary 以及 remaining sa1 dictionary\n",
    "3. task 1 （可能需要考虑 regex 来做map - 因为duplicated 有可能需要 map dirty state data to duplicated_sa1['location'] 的state key\n",
    "    - 可能需要认真研究 tweets （dirty data） 的结构（i.e. 是不是每一个都是 suburb, city OR city，state OR state， country）\n",
    "4. task 3 根据 是否是一个 g 地点发出的tweet来 fill up task 3的dictionary\n",
    "5. task 3 的output 做special sort"
   ]
  },
  {
   "attachments": {},
   "cell_type": "markdown",
   "metadata": {},
   "source": [
    "额外 （未来要问的问题）：\n",
    "1. 如果sa1 里有 - ， 怎么搞？\n",
    "2. 堪培拉算不算一个greater city location?"
   ]
  },
  {
   "cell_type": "markdown",
   "metadata": {},
   "source": []
  }
 ],
 "metadata": {
  "kernelspec": {
   "display_name": "Python 3",
   "language": "python",
   "name": "python3"
  },
  "language_info": {
   "name": "python",
   "version": "3.10.2"
  },
  "orig_nbformat": 4,
  "vscode": {
   "interpreter": {
    "hash": "aee8b7b246df8f9039afb4144a1f6fd8d2ca17a180786b69acc140d282b71a49"
   }
  }
 },
 "nbformat": 4,
 "nbformat_minor": 2
}
