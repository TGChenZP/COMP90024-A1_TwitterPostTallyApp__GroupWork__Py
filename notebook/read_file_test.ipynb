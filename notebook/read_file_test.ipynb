{
 "cells": [
  {
   "cell_type": "code",
   "execution_count": 1,
   "metadata": {},
   "outputs": [],
   "source": [
    "import json\n",
    "import os"
   ]
  },
  {
   "cell_type": "code",
   "execution_count": 2,
   "metadata": {},
   "outputs": [],
   "source": [
    "filename = \"../data/twitter-data-small.json\""
   ]
  },
  {
   "cell_type": "code",
   "execution_count": 13,
   "metadata": {},
   "outputs": [],
   "source": [
    "def get_start_end(filename, rough_start, rough_end, rank, size):\n",
    "    file_byte_size = os.path.getsize(filename)\n",
    "\n",
    "    f = open(filename, \"r\")\n",
    "\n",
    "    # get accurate start\n",
    "    if rank == 0: # don't need to do anything for node 0 - just use 0th byte\n",
    "        accurate_start = 0\n",
    "\n",
    "    else:\n",
    "\n",
    "        # jump to rough start\n",
    "        f.seek(rough_start)\n",
    "\n",
    "        # loop over lines and collect end of line's char pos using tell() if the line is an end of json object\n",
    "        # purpose: start readfile for each parallelised node at the next end of json object after rough start\n",
    "        while True: \n",
    "            line = f.readline()\n",
    "            if line in [\"  },\\n\", \"  }\\n\"]:\n",
    "                accurate_start = f.tell()\n",
    "                break\n",
    "\n",
    "\n",
    "    if rank == size-1: # don't need to do anything for final node - just use final byte\n",
    "        accurate_end = file_byte_size\n",
    "\n",
    "    else:\n",
    "        \n",
    "        # jump to rough end\n",
    "        f.seek(rough_end)\n",
    "\n",
    "        # loop over lines and collect end of line's char pos using tell() if the line is an end of json object\n",
    "        # purpose: end readfile for each parallelised node at the next end of json object after rough end\n",
    "        while True:\n",
    "            line = f.readline()\n",
    "            if line in [\"  },\\n\", \"  }\\n\"]:\n",
    "                accurate_end = f.tell()\n",
    "                break\n",
    "\n",
    "    f.close()\n",
    "\n",
    "    return accurate_start, accurate_end"
   ]
  },
  {
   "cell_type": "code",
   "execution_count": 14,
   "metadata": {},
   "outputs": [
    {
     "name": "stdout",
     "output_type": "stream",
     "text": [
      "0\n",
      "start [\n",
      "\n",
      "end   {\n",
      " \n",
      "\n",
      "1\n",
      "start   {\n",
      "\n",
      "end   {\n",
      " \n",
      "\n",
      "2\n",
      "start   {\n",
      "\n",
      "end   {\n",
      " \n",
      "\n",
      "3\n",
      "start   {\n",
      "\n",
      "end   {\n",
      " \n",
      "\n",
      "4\n",
      "start   {\n",
      "\n",
      "end   {\n",
      " \n",
      "\n",
      "5\n",
      "start   {\n",
      "\n",
      "end   {\n",
      " \n",
      "\n",
      "6\n",
      "start   {\n",
      "\n",
      "end   {\n",
      " \n",
      "\n",
      "7\n",
      "start   {\n",
      "\n",
      "end  \n",
      "\n"
     ]
    }
   ],
   "source": [
    "size = 8\n",
    "\n",
    "for rank in range(0, size):\n",
    "\n",
    "    file_byte_size = os.path.getsize(filename)\n",
    "    rough_block_size = file_byte_size // size\n",
    "\n",
    "    rough_start = rank*rough_block_size\n",
    "    rough_end = (rank+1)*rough_block_size\n",
    "\n",
    "    accurate_start, accurate_end = get_start_end(filename, rough_start, rough_end, rank, size)\n",
    "\n",
    "    print(rank)\n",
    "\n",
    "    f = open(filename, \"r\")\n",
    "    f.seek(accurate_start)\n",
    "    print('start', f.readline())\n",
    "\n",
    "    f.seek(accurate_end)\n",
    "    print('end', f.readline(), '\\n')\n",
    "\n",
    "    f.close()"
   ]
  },
  {
   "cell_type": "code",
   "execution_count": null,
   "metadata": {},
   "outputs": [],
   "source": []
  }
 ],
 "metadata": {
  "kernelspec": {
   "display_name": "base",
   "language": "python",
   "name": "python3"
  },
  "language_info": {
   "codemirror_mode": {
    "name": "ipython",
    "version": 3
   },
   "file_extension": ".py",
   "mimetype": "text/x-python",
   "name": "python",
   "nbconvert_exporter": "python",
   "pygments_lexer": "ipython3",
   "version": "3.9.7"
  },
  "orig_nbformat": 4
 },
 "nbformat": 4,
 "nbformat_minor": 2
}
